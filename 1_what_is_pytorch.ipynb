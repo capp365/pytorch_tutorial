{
 "cells": [
  {
   "cell_type": "markdown",
   "metadata": {},
   "source": [
    "source: https://pytorch.org/tutorials/beginner/blitz/tensor_tutorial.html"
   ]
  },
  {
   "cell_type": "markdown",
   "metadata": {},
   "source": [
    "> from __future__ import print_function  \n",
    "\n",
    "って必要？"
   ]
  },
  {
   "cell_type": "code",
   "execution_count": 1,
   "metadata": {},
   "outputs": [],
   "source": [
    "import torch"
   ]
  },
  {
   "cell_type": "markdown",
   "metadata": {},
   "source": [
    "chainerでいうVariableの定義"
   ]
  },
  {
   "cell_type": "code",
   "execution_count": 2,
   "metadata": {
    "scrolled": true
   },
   "outputs": [
    {
     "name": "stdout",
     "output_type": "stream",
     "text": [
      "tensor([[7.5563e+31, 1.8014e+25, 8.1335e+32],\n",
      "        [7.2436e+22, 7.5554e+28, 2.9635e+29],\n",
      "        [2.2087e+03, 2.9386e+29, 7.1104e-04],\n",
      "        [1.3556e-19, 1.8567e-01, 2.1017e-19],\n",
      "        [7.5553e+28, 5.2839e-11, 7.5018e+28]])\n",
      "tensor([[0.5675, 0.7805, 0.5725],\n",
      "        [0.2413, 0.3477, 0.5998],\n",
      "        [0.2134, 0.5371, 0.0527],\n",
      "        [0.2873, 0.8999, 0.7120],\n",
      "        [0.4615, 0.3596, 0.2809]])\n",
      "tensor([[0, 0, 0],\n",
      "        [0, 0, 0],\n",
      "        [0, 0, 0],\n",
      "        [0, 0, 0],\n",
      "        [0, 0, 0]])\n",
      "tensor([5.5000, 3.0000])\n",
      "tensor([[1., 1., 1.],\n",
      "        [1., 1., 1.],\n",
      "        [1., 1., 1.],\n",
      "        [1., 1., 1.],\n",
      "        [1., 1., 1.]], dtype=torch.float64)\n",
      "tensor([[-0.0248, -2.0738, -0.4935],\n",
      "        [-0.3784, -0.9650,  1.3495],\n",
      "        [ 0.2567,  0.1185, -1.1576],\n",
      "        [-0.2589, -0.8160, -0.9044],\n",
      "        [ 0.5126,  0.1875,  0.2032]])\n",
      "torch.Size([5, 3])\n",
      "tensor([[ 0.0433, -1.8299,  0.4214],\n",
      "        [-0.2309, -0.5703,  1.4583],\n",
      "        [ 1.1575,  0.2354, -1.1160],\n",
      "        [ 0.6390, -0.5230, -0.6952],\n",
      "        [ 1.1853,  0.2318,  0.6027]])\n",
      "tensor([[ 0.0433, -1.8299,  0.4214],\n",
      "        [-0.2309, -0.5703,  1.4583],\n",
      "        [ 1.1575,  0.2354, -1.1160],\n",
      "        [ 0.6390, -0.5230, -0.6952],\n",
      "        [ 1.1853,  0.2318,  0.6027]])\n",
      "tensor([[ 6.1361e-37,  4.5852e-41,  6.1361e-37],\n",
      "        [ 4.5852e-41, -5.7026e-01,  1.4583e+00],\n",
      "        [ 1.1575e+00,  2.3540e-01, -1.1160e+00],\n",
      "        [ 6.3899e-01, -5.2298e-01, -6.9520e-01],\n",
      "        [ 1.1853e+00,  2.3185e-01,  6.0273e-01]])\n",
      "りざると\n",
      "tensor([[ 0.0433, -1.8299,  0.4214],\n",
      "        [-0.2309, -0.5703,  1.4583],\n",
      "        [ 1.1575,  0.2354, -1.1160],\n",
      "        [ 0.6390, -0.5230, -0.6952],\n",
      "        [ 1.1853,  0.2318,  0.6027]])\n",
      "tensor([[ 0.0433, -1.8299,  0.4214],\n",
      "        [-0.2309, -0.5703,  1.4583],\n",
      "        [ 1.1575,  0.2354, -1.1160],\n",
      "        [ 0.6390, -0.5230, -0.6952],\n",
      "        [ 1.1853,  0.2318,  0.6027]])\n",
      "tensor([-2.0738, -0.9650,  0.1185, -0.8160,  0.1875])\n"
     ]
    }
   ],
   "source": [
    "x = torch.empty(5, 3)\n",
    "print(x) # 中身定義しなくても初期化はされる(なんか入ってる)\n",
    "x = torch.rand(5, 3)\n",
    "print(x)\n",
    "x = torch.zeros(5, 3, dtype=torch.long)\n",
    "print(x)\n",
    "x = torch.tensor([5.5, 3])\n",
    "print(x)\n",
    "x = x.new_ones(5, 3, dtype=torch.double)      # new_* methods take in sizes\n",
    "print(x)\n",
    "\n",
    "x = torch.randn_like(x, dtype=torch.float)    # override dtype!\n",
    "print(x)                                      # result has the same size\n",
    "print(x.size())\n",
    "y = torch.rand(5, 3)\n",
    "print(x + y)\n",
    "print(torch.add(x, y))\n",
    "result = torch.empty(5, 3)\n",
    "print(result)\n",
    "torch.add(x, y, out=result)\n",
    "print('りざると')\n",
    "print(result)\n",
    "# adds x to y\n",
    "y.add_(x)\n",
    "print(y)\n",
    "print(x[:, 1])"
   ]
  },
  {
   "cell_type": "markdown",
   "metadata": {},
   "source": [
    "viewはいわゆるnp.reshape\n",
    "\n",
    "その他色んなオペレーションは以下に\n",
    "https://pytorch.org/docs/stable/torch.html"
   ]
  },
  {
   "cell_type": "code",
   "execution_count": 3,
   "metadata": {},
   "outputs": [
    {
     "name": "stdout",
     "output_type": "stream",
     "text": [
      "torch.Size([4, 4]) torch.Size([16]) torch.Size([2, 8])\n",
      "tensor([-0.5356])\n",
      "-0.5355790257453918\n"
     ]
    }
   ],
   "source": [
    "x = torch.randn(4, 4)\n",
    "y = x.view(16)\n",
    "z = x.view(-1, 8)  # the size -1 is inferred from other dimensions\n",
    "print(x.size(), y.size(), z.size())\n",
    "\n",
    "x = torch.randn(1)\n",
    "print(x)\n",
    "print(x.item())"
   ]
  },
  {
   "cell_type": "code",
   "execution_count": 4,
   "metadata": {},
   "outputs": [
    {
     "data": {
      "text/plain": [
       "numpy.ndarray"
      ]
     },
     "execution_count": 4,
     "metadata": {},
     "output_type": "execute_result"
    }
   ],
   "source": [
    "# numpyへの橋渡し\n",
    "type(x.numpy())"
   ]
  },
  {
   "cell_type": "code",
   "execution_count": 5,
   "metadata": {},
   "outputs": [],
   "source": [
    "b=x.numpy()"
   ]
  },
  {
   "cell_type": "code",
   "execution_count": 6,
   "metadata": {},
   "outputs": [
    {
     "data": {
      "text/plain": [
       "tensor([0.4644])"
      ]
     },
     "execution_count": 6,
     "metadata": {},
     "output_type": "execute_result"
    }
   ],
   "source": [
    "x.add_(1)"
   ]
  },
  {
   "cell_type": "code",
   "execution_count": 7,
   "metadata": {},
   "outputs": [
    {
     "data": {
      "text/plain": [
       "array([0.46442097], dtype=float32)"
      ]
     },
     "execution_count": 7,
     "metadata": {},
     "output_type": "execute_result"
    }
   ],
   "source": [
    " b"
   ]
  },
  {
   "cell_type": "markdown",
   "metadata": {},
   "source": [
    "numpyにしてもコピーはとっておらずそのまま参照してるので注意。逆もまた然り。\n",
    "(torch.from_numpyでやる)"
   ]
  },
  {
   "cell_type": "code",
   "execution_count": 8,
   "metadata": {},
   "outputs": [
    {
     "name": "stdout",
     "output_type": "stream",
     "text": [
      "[2. 2. 2. 2. 2.]\n",
      "tensor([2., 2., 2., 2., 2.], dtype=torch.float64)\n"
     ]
    }
   ],
   "source": [
    "import numpy as np\n",
    "a = np.ones(5)\n",
    "b = torch.from_numpy(a)\n",
    "np.add(a, 1, out=a)\n",
    "print(a)\n",
    "print(b)"
   ]
  },
  {
   "cell_type": "code",
   "execution_count": 9,
   "metadata": {},
   "outputs": [
    {
     "name": "stdout",
     "output_type": "stream",
     "text": [
      "tensor([1.4644], device='cuda:0')\n",
      "tensor([1.4644], dtype=torch.float64)\n"
     ]
    }
   ],
   "source": [
    "if torch.cuda.is_available():\n",
    "    device = torch.device(\"cuda\")          # a CUDA device object\n",
    "    y = torch.ones_like(x, device=device)  # directly create a tensor on GPU\n",
    "    x = x.to(device)                       # or just use strings ``.to(\"cuda\")``\n",
    "    z = x + y\n",
    "    print(z)\n",
    "    print(z.to(\"cpu\", torch.double))   "
   ]
  },
  {
   "cell_type": "code",
   "execution_count": 10,
   "metadata": {},
   "outputs": [
    {
     "data": {
      "text/plain": [
       "True"
      ]
     },
     "execution_count": 10,
     "metadata": {},
     "output_type": "execute_result"
    }
   ],
   "source": [
    "torch.cuda.is_available()"
   ]
  },
  {
   "cell_type": "code",
   "execution_count": null,
   "metadata": {},
   "outputs": [],
   "source": []
  }
 ],
 "metadata": {
  "kernelspec": {
   "display_name": "Python 3",
   "language": "python",
   "name": "python3"
  },
  "language_info": {
   "codemirror_mode": {
    "name": "ipython",
    "version": 3
   },
   "file_extension": ".py",
   "mimetype": "text/x-python",
   "name": "python",
   "nbconvert_exporter": "python",
   "pygments_lexer": "ipython3",
   "version": "3.7.3"
  }
 },
 "nbformat": 4,
 "nbformat_minor": 2
}
